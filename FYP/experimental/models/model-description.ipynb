{
 "cells": [
  {
   "cell_type": "markdown",
   "source": [
    "#### What configs or learnings where used in each model same goes for evaluation (if not specified, remained as defaulted)"
   ],
   "metadata": {
    "collapsed": false
   },
   "id": "697998c4233a2b0c"
  },
  {
   "cell_type": "markdown",
   "source": [
    "##### highway-env_20-cars_PPO_high-level and highway-env_20-cars_PPO_continuous:\n",
    "- high-level (training: total_timesteps=int(2e4)), and continuous training: total_timesteps=int(574975) <-needed to match low-level steps since 2e4 is for high-level action steps)\n",
    "\n",
    "##### What numbers mean at the end of the zip name is purely the config_env.py of the rewards weight:\n",
    "no number)\n",
    "is default:"
   ],
   "metadata": {
    "collapsed": false
   },
   "id": "c24169c0c4ae0e56"
  },
  {
   "cell_type": "code",
   "execution_count": 4,
   "outputs": [],
   "source": [
    "# config:\n",
    "{\n",
    "        \"collision_reward\": -1,  \n",
    "        \"right_lane_reward\": 0.1,  \n",
    "        \"high_speed_reward\": 0.4\n",
    "}"
   ],
   "metadata": {
    "collapsed": false,
    "ExecuteTime": {
     "end_time": "2024-03-13T14:48:36.815577700Z",
     "start_time": "2024-03-13T14:48:36.780625600Z"
    }
   },
   "id": "55fd5f6218e28f6e"
  },
  {
   "cell_type": "markdown",
   "source": [
    "2)"
   ],
   "metadata": {
    "collapsed": false
   },
   "id": "5bcc0850c01d1077"
  },
  {
   "cell_type": "code",
   "execution_count": null,
   "outputs": [],
   "source": [
    "{           \n",
    "        \"collision_reward\": -1,\n",
    "        \"right_lane_reward\": 0.4,\n",
    "        \"high_speed_reward\": 0.5\n",
    "}"
   ],
   "metadata": {
    "collapsed": false
   },
   "id": "3e35ababd5c9b795"
  },
  {
   "cell_type": "markdown",
   "source": [
    "3)"
   ],
   "metadata": {
    "collapsed": false
   },
   "id": "de971ada3245c844"
  },
  {
   "cell_type": "code",
   "execution_count": null,
   "outputs": [],
   "source": [
    "{\n",
    "        \"collision_reward\": -1, \n",
    "        \"right_lane_reward\": 0.5,\n",
    "        \"high_speed_reward\": 0.4\n",
    "}"
   ],
   "metadata": {
    "collapsed": false
   },
   "id": "ed47e9b07f172f52"
  },
  {
   "cell_type": "markdown",
   "source": [
    "4)"
   ],
   "metadata": {
    "collapsed": false
   },
   "id": "1f57b7eb99ebc6c2"
  },
  {
   "cell_type": "code",
   "execution_count": null,
   "outputs": [],
   "source": [
    "{\n",
    "        \"collision_reward\": -0.5, \n",
    "        \"right_lane_reward\": 0.5,\n",
    "        \"high_speed_reward\": 0.4\n",
    "}"
   ],
   "metadata": {
    "collapsed": false
   },
   "id": "2062a4a719cfda42"
  },
  {
   "cell_type": "markdown",
   "source": [
    "5)"
   ],
   "metadata": {
    "collapsed": false
   },
   "id": "887c284152098590"
  },
  {
   "cell_type": "code",
   "execution_count": null,
   "outputs": [],
   "source": [
    "{\n",
    "        \"collision_reward\": -0.2,  # The reward received when colliding with a vehicle.\n",
    "        \"right_lane_reward\": 0.5,  # The reward received when driving on the right-most lanes, linearly mapped to\n",
    "                               # zero for other lanes.\n",
    "        \"high_speed_reward\": 0.4\n",
    "}"
   ],
   "metadata": {
    "collapsed": false
   },
   "id": "591509f5cce067f9"
  },
  {
   "cell_type": "markdown",
   "source": [
    "6)"
   ],
   "metadata": {
    "collapsed": false
   },
   "id": "83d8ca32ed3eec84"
  },
  {
   "cell_type": "code",
   "execution_count": null,
   "outputs": [],
   "source": [
    "{   \n",
    "    \"collision_reward\": -0.2,  # The reward received when colliding with a vehicle.\n",
    "    \"right_lane_reward\": 0.5,  # The reward received when driving on the right-most lanes, linearly mapped to\n",
    "                               # zero for other lanes.\n",
    "    \"high_speed_reward\": 0.2\n",
    " }"
   ],
   "metadata": {
    "collapsed": false
   },
   "id": "c32a7c39489b8483"
  }
 ],
 "metadata": {
  "kernelspec": {
   "display_name": "Python 3",
   "language": "python",
   "name": "python3"
  },
  "language_info": {
   "codemirror_mode": {
    "name": "ipython",
    "version": 2
   },
   "file_extension": ".py",
   "mimetype": "text/x-python",
   "name": "python",
   "nbconvert_exporter": "python",
   "pygments_lexer": "ipython2",
   "version": "2.7.6"
  }
 },
 "nbformat": 4,
 "nbformat_minor": 5
}
